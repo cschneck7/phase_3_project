{
 "cells": [
  {
   "cell_type": "code",
   "execution_count": 67,
   "metadata": {},
   "outputs": [],
   "source": [
    "import pandas as pd\n",
    "import numpy as np\n",
    "import matplotlib.pyplot as plt\n",
    "import seaborn as sns\n",
    "import math\n",
    "from sklearn.linear_model import LogisticRegression\n",
    "from sklearn.preprocessing import (LabelEncoder, FunctionTransformer)\n",
    "from sklearn.compose import ColumnTransformer\n",
    "from sklearn.model_selection import train_test_split\n",
    "from sklearn.base import (BaseEstimator, TransformerMixin)\n",
    "import pickle\n",
    "\n",
    "%matplotlib inline"
   ]
  },
  {
   "cell_type": "markdown",
   "metadata": {},
   "source": [
    "## EDA"
   ]
  },
  {
   "cell_type": "code",
   "execution_count": 2,
   "metadata": {},
   "outputs": [],
   "source": [
    "# Create feature and target dataframes\n",
    "# The source dataset already had this split into two files\n",
    "X = pd.read_csv('data/source_data/training_set_features.csv')\n",
    "y = pd.read_csv('data/source_data/training_set_labels.csv')"
   ]
  },
  {
   "cell_type": "markdown",
   "metadata": {},
   "source": [
    "The `training_set_labels.csv` file read to `y` contains two target variables, `h1n1_vaccine` and `seasonal_vaccine1`. For this project only the `h1n1_vaccine` target variable will be used."
   ]
  },
  {
   "cell_type": "code",
   "execution_count": 3,
   "metadata": {},
   "outputs": [],
   "source": [
    "# Sets target variable\n",
    "y = y.h1n1_vaccine"
   ]
  },
  {
   "cell_type": "markdown",
   "metadata": {},
   "source": [
    "Before any more analysis is done the dataset should be split into training and testsets to prevent data leakage."
   ]
  },
  {
   "cell_type": "code",
   "execution_count": 4,
   "metadata": {},
   "outputs": [],
   "source": [
    "X_train, X_test, y_train, y_test = train_test_split(X, y, test_size=.25, random_state=42)"
   ]
  },
  {
   "cell_type": "markdown",
   "metadata": {},
   "source": [
    "### Feature Analysis"
   ]
  },
  {
   "cell_type": "code",
   "execution_count": 5,
   "metadata": {},
   "outputs": [
    {
     "name": "stdout",
     "output_type": "stream",
     "text": [
      "(20030, 36)\n"
     ]
    },
    {
     "data": {
      "text/html": [
       "<div>\n",
       "<style scoped>\n",
       "    .dataframe tbody tr th:only-of-type {\n",
       "        vertical-align: middle;\n",
       "    }\n",
       "\n",
       "    .dataframe tbody tr th {\n",
       "        vertical-align: top;\n",
       "    }\n",
       "\n",
       "    .dataframe thead th {\n",
       "        text-align: right;\n",
       "    }\n",
       "</style>\n",
       "<table border=\"1\" class=\"dataframe\">\n",
       "  <thead>\n",
       "    <tr style=\"text-align: right;\">\n",
       "      <th></th>\n",
       "      <th>respondent_id</th>\n",
       "      <th>h1n1_concern</th>\n",
       "      <th>h1n1_knowledge</th>\n",
       "      <th>behavioral_antiviral_meds</th>\n",
       "      <th>behavioral_avoidance</th>\n",
       "      <th>behavioral_face_mask</th>\n",
       "      <th>behavioral_wash_hands</th>\n",
       "      <th>behavioral_large_gatherings</th>\n",
       "      <th>behavioral_outside_home</th>\n",
       "      <th>behavioral_touch_face</th>\n",
       "      <th>...</th>\n",
       "      <th>income_poverty</th>\n",
       "      <th>marital_status</th>\n",
       "      <th>rent_or_own</th>\n",
       "      <th>employment_status</th>\n",
       "      <th>hhs_geo_region</th>\n",
       "      <th>census_msa</th>\n",
       "      <th>household_adults</th>\n",
       "      <th>household_children</th>\n",
       "      <th>employment_industry</th>\n",
       "      <th>employment_occupation</th>\n",
       "    </tr>\n",
       "  </thead>\n",
       "  <tbody>\n",
       "    <tr>\n",
       "      <th>25194</th>\n",
       "      <td>25194</td>\n",
       "      <td>1.0</td>\n",
       "      <td>1.0</td>\n",
       "      <td>0.0</td>\n",
       "      <td>0.0</td>\n",
       "      <td>0.0</td>\n",
       "      <td>0.0</td>\n",
       "      <td>0.0</td>\n",
       "      <td>0.0</td>\n",
       "      <td>0.0</td>\n",
       "      <td>...</td>\n",
       "      <td>NaN</td>\n",
       "      <td>Not Married</td>\n",
       "      <td>Own</td>\n",
       "      <td>Not in Labor Force</td>\n",
       "      <td>oxchjgsf</td>\n",
       "      <td>Non-MSA</td>\n",
       "      <td>1.0</td>\n",
       "      <td>1.0</td>\n",
       "      <td>NaN</td>\n",
       "      <td>NaN</td>\n",
       "    </tr>\n",
       "    <tr>\n",
       "      <th>14006</th>\n",
       "      <td>14006</td>\n",
       "      <td>2.0</td>\n",
       "      <td>1.0</td>\n",
       "      <td>0.0</td>\n",
       "      <td>1.0</td>\n",
       "      <td>0.0</td>\n",
       "      <td>1.0</td>\n",
       "      <td>0.0</td>\n",
       "      <td>0.0</td>\n",
       "      <td>0.0</td>\n",
       "      <td>...</td>\n",
       "      <td>NaN</td>\n",
       "      <td>Married</td>\n",
       "      <td>NaN</td>\n",
       "      <td>Employed</td>\n",
       "      <td>lzgpxyit</td>\n",
       "      <td>MSA, Not Principle  City</td>\n",
       "      <td>2.0</td>\n",
       "      <td>1.0</td>\n",
       "      <td>fcxhlnwr</td>\n",
       "      <td>oijqvulv</td>\n",
       "    </tr>\n",
       "    <tr>\n",
       "      <th>11285</th>\n",
       "      <td>11285</td>\n",
       "      <td>0.0</td>\n",
       "      <td>0.0</td>\n",
       "      <td>0.0</td>\n",
       "      <td>0.0</td>\n",
       "      <td>0.0</td>\n",
       "      <td>0.0</td>\n",
       "      <td>0.0</td>\n",
       "      <td>0.0</td>\n",
       "      <td>0.0</td>\n",
       "      <td>...</td>\n",
       "      <td>&lt;= $75,000, Above Poverty</td>\n",
       "      <td>Not Married</td>\n",
       "      <td>Own</td>\n",
       "      <td>Employed</td>\n",
       "      <td>kbazzjca</td>\n",
       "      <td>MSA, Principle City</td>\n",
       "      <td>0.0</td>\n",
       "      <td>1.0</td>\n",
       "      <td>wlfvacwt</td>\n",
       "      <td>hfxkjkmi</td>\n",
       "    </tr>\n",
       "    <tr>\n",
       "      <th>2900</th>\n",
       "      <td>2900</td>\n",
       "      <td>1.0</td>\n",
       "      <td>1.0</td>\n",
       "      <td>0.0</td>\n",
       "      <td>0.0</td>\n",
       "      <td>0.0</td>\n",
       "      <td>0.0</td>\n",
       "      <td>0.0</td>\n",
       "      <td>0.0</td>\n",
       "      <td>0.0</td>\n",
       "      <td>...</td>\n",
       "      <td>Below Poverty</td>\n",
       "      <td>Not Married</td>\n",
       "      <td>Own</td>\n",
       "      <td>Employed</td>\n",
       "      <td>mlyzmhmf</td>\n",
       "      <td>MSA, Not Principle  City</td>\n",
       "      <td>0.0</td>\n",
       "      <td>0.0</td>\n",
       "      <td>mcubkhph</td>\n",
       "      <td>ukymxvdu</td>\n",
       "    </tr>\n",
       "    <tr>\n",
       "      <th>19083</th>\n",
       "      <td>19083</td>\n",
       "      <td>2.0</td>\n",
       "      <td>1.0</td>\n",
       "      <td>1.0</td>\n",
       "      <td>1.0</td>\n",
       "      <td>0.0</td>\n",
       "      <td>1.0</td>\n",
       "      <td>1.0</td>\n",
       "      <td>1.0</td>\n",
       "      <td>1.0</td>\n",
       "      <td>...</td>\n",
       "      <td>NaN</td>\n",
       "      <td>NaN</td>\n",
       "      <td>NaN</td>\n",
       "      <td>NaN</td>\n",
       "      <td>bhuqouqj</td>\n",
       "      <td>MSA, Not Principle  City</td>\n",
       "      <td>NaN</td>\n",
       "      <td>NaN</td>\n",
       "      <td>NaN</td>\n",
       "      <td>NaN</td>\n",
       "    </tr>\n",
       "  </tbody>\n",
       "</table>\n",
       "<p>5 rows × 36 columns</p>\n",
       "</div>"
      ],
      "text/plain": [
       "       respondent_id  h1n1_concern  h1n1_knowledge  behavioral_antiviral_meds  \\\n",
       "25194          25194           1.0             1.0                        0.0   \n",
       "14006          14006           2.0             1.0                        0.0   \n",
       "11285          11285           0.0             0.0                        0.0   \n",
       "2900            2900           1.0             1.0                        0.0   \n",
       "19083          19083           2.0             1.0                        1.0   \n",
       "\n",
       "       behavioral_avoidance  behavioral_face_mask  behavioral_wash_hands  \\\n",
       "25194                   0.0                   0.0                    0.0   \n",
       "14006                   1.0                   0.0                    1.0   \n",
       "11285                   0.0                   0.0                    0.0   \n",
       "2900                    0.0                   0.0                    0.0   \n",
       "19083                   1.0                   0.0                    1.0   \n",
       "\n",
       "       behavioral_large_gatherings  behavioral_outside_home  \\\n",
       "25194                          0.0                      0.0   \n",
       "14006                          0.0                      0.0   \n",
       "11285                          0.0                      0.0   \n",
       "2900                           0.0                      0.0   \n",
       "19083                          1.0                      1.0   \n",
       "\n",
       "       behavioral_touch_face  ...             income_poverty  marital_status  \\\n",
       "25194                    0.0  ...                        NaN     Not Married   \n",
       "14006                    0.0  ...                        NaN         Married   \n",
       "11285                    0.0  ...  <= $75,000, Above Poverty     Not Married   \n",
       "2900                     0.0  ...              Below Poverty     Not Married   \n",
       "19083                    1.0  ...                        NaN             NaN   \n",
       "\n",
       "       rent_or_own   employment_status  hhs_geo_region  \\\n",
       "25194          Own  Not in Labor Force        oxchjgsf   \n",
       "14006          NaN            Employed        lzgpxyit   \n",
       "11285          Own            Employed        kbazzjca   \n",
       "2900           Own            Employed        mlyzmhmf   \n",
       "19083          NaN                 NaN        bhuqouqj   \n",
       "\n",
       "                     census_msa  household_adults  household_children  \\\n",
       "25194                   Non-MSA               1.0                 1.0   \n",
       "14006  MSA, Not Principle  City               2.0                 1.0   \n",
       "11285       MSA, Principle City               0.0                 1.0   \n",
       "2900   MSA, Not Principle  City               0.0                 0.0   \n",
       "19083  MSA, Not Principle  City               NaN                 NaN   \n",
       "\n",
       "       employment_industry  employment_occupation  \n",
       "25194                  NaN                    NaN  \n",
       "14006             fcxhlnwr               oijqvulv  \n",
       "11285             wlfvacwt               hfxkjkmi  \n",
       "2900              mcubkhph               ukymxvdu  \n",
       "19083                  NaN                    NaN  \n",
       "\n",
       "[5 rows x 36 columns]"
      ]
     },
     "execution_count": 5,
     "metadata": {},
     "output_type": "execute_result"
    }
   ],
   "source": [
    "# preview of feature dataframe\n",
    "print(X_train.shape)\n",
    "X_train.head()"
   ]
  },
  {
   "cell_type": "markdown",
   "metadata": {},
   "source": [
    "Our training dataset has 20030 entries and 36 features."
   ]
  },
  {
   "cell_type": "code",
   "execution_count": 6,
   "metadata": {},
   "outputs": [
    {
     "name": "stdout",
     "output_type": "stream",
     "text": [
      "<class 'pandas.core.frame.DataFrame'>\n",
      "Int64Index: 20030 entries, 25194 to 23654\n",
      "Data columns (total 36 columns):\n",
      " #   Column                       Non-Null Count  Dtype  \n",
      "---  ------                       --------------  -----  \n",
      " 0   respondent_id                20030 non-null  int64  \n",
      " 1   h1n1_concern                 19963 non-null  float64\n",
      " 2   h1n1_knowledge               19943 non-null  float64\n",
      " 3   behavioral_antiviral_meds    19974 non-null  float64\n",
      " 4   behavioral_avoidance         19873 non-null  float64\n",
      " 5   behavioral_face_mask         20016 non-null  float64\n",
      " 6   behavioral_wash_hands        19994 non-null  float64\n",
      " 7   behavioral_large_gatherings  19960 non-null  float64\n",
      " 8   behavioral_outside_home      19972 non-null  float64\n",
      " 9   behavioral_touch_face        19932 non-null  float64\n",
      " 10  doctor_recc_h1n1             18395 non-null  float64\n",
      " 11  doctor_recc_seasonal         18395 non-null  float64\n",
      " 12  chronic_med_condition        19313 non-null  float64\n",
      " 13  child_under_6_months         19425 non-null  float64\n",
      " 14  health_worker                19433 non-null  float64\n",
      " 15  health_insurance             10797 non-null  float64\n",
      " 16  opinion_h1n1_vacc_effective  19731 non-null  float64\n",
      " 17  opinion_h1n1_risk            19738 non-null  float64\n",
      " 18  opinion_h1n1_sick_from_vacc  19729 non-null  float64\n",
      " 19  opinion_seas_vacc_effective  19681 non-null  float64\n",
      " 20  opinion_seas_risk            19643 non-null  float64\n",
      " 21  opinion_seas_sick_from_vacc  19623 non-null  float64\n",
      " 22  age_group                    20030 non-null  object \n",
      " 23  education                    18990 non-null  object \n",
      " 24  race                         20030 non-null  object \n",
      " 25  sex                          20030 non-null  object \n",
      " 26  income_poverty               16761 non-null  object \n",
      " 27  marital_status               18992 non-null  object \n",
      " 28  rent_or_own                  18518 non-null  object \n",
      " 29  employment_status            18949 non-null  object \n",
      " 30  hhs_geo_region               20030 non-null  object \n",
      " 31  census_msa                   20030 non-null  object \n",
      " 32  household_adults             19842 non-null  float64\n",
      " 33  household_children           19842 non-null  float64\n",
      " 34  employment_industry          10056 non-null  object \n",
      " 35  employment_occupation        9956 non-null   object \n",
      "dtypes: float64(23), int64(1), object(12)\n",
      "memory usage: 5.7+ MB\n"
     ]
    }
   ],
   "source": [
    "# preview at feature column information\n",
    "X_train.info()"
   ]
  },
  {
   "cell_type": "markdown",
   "metadata": {},
   "source": [
    "Dataset contains features of multiple types, a lot of them appear to be categorical.\n",
    "\n",
    "There also appears to be a lot of missing values in this dataframe. Let's check the amount for each feature."
   ]
  },
  {
   "cell_type": "code",
   "execution_count": 7,
   "metadata": {},
   "outputs": [
    {
     "data": {
      "text/plain": [
       "respondent_id                      0\n",
       "h1n1_concern                      67\n",
       "h1n1_knowledge                    87\n",
       "behavioral_antiviral_meds         56\n",
       "behavioral_avoidance             157\n",
       "behavioral_face_mask              14\n",
       "behavioral_wash_hands             36\n",
       "behavioral_large_gatherings       70\n",
       "behavioral_outside_home           58\n",
       "behavioral_touch_face             98\n",
       "doctor_recc_h1n1                1635\n",
       "doctor_recc_seasonal            1635\n",
       "chronic_med_condition            717\n",
       "child_under_6_months             605\n",
       "health_worker                    597\n",
       "health_insurance                9233\n",
       "opinion_h1n1_vacc_effective      299\n",
       "opinion_h1n1_risk                292\n",
       "opinion_h1n1_sick_from_vacc      301\n",
       "opinion_seas_vacc_effective      349\n",
       "opinion_seas_risk                387\n",
       "opinion_seas_sick_from_vacc      407\n",
       "age_group                          0\n",
       "education                       1040\n",
       "race                               0\n",
       "sex                                0\n",
       "income_poverty                  3269\n",
       "marital_status                  1038\n",
       "rent_or_own                     1512\n",
       "employment_status               1081\n",
       "hhs_geo_region                     0\n",
       "census_msa                         0\n",
       "household_adults                 188\n",
       "household_children               188\n",
       "employment_industry             9974\n",
       "employment_occupation          10074\n",
       "dtype: int64"
      ]
     },
     "execution_count": 7,
     "metadata": {},
     "output_type": "execute_result"
    }
   ],
   "source": [
    "# Checks amount of Nan values in feature dataframe\n",
    "X_train.isna().sum()"
   ]
  },
  {
   "cell_type": "markdown",
   "metadata": {},
   "source": [
    "The majority of our features contain missing values that will need to be handled. Three features, (`health_insurance`, `employment_industry`, and `employment_occupation`), are missing values for about half of their entries and will most likely be dropped from the dataset. If our future models perform poorly filling these features in using a regression model, filling in by ratio of occurences in other entries, or finding a quick correlation between them and other features can be used to fill them in.\n",
    "\n",
    "The feature `respondent_id` will also be dropped as it has no use in our model."
   ]
  },
  {
   "cell_type": "code",
   "execution_count": 8,
   "metadata": {},
   "outputs": [],
   "source": [
    "# Drops columns containing many missing entries\n",
    "X_train_mod = X_train.drop(columns = ['respondent_id', \n",
    "                      'health_insurance', \n",
    "                      'employment_industry', \n",
    "                      'employment_occupation'], \n",
    "           axis=1).copy()"
   ]
  },
  {
   "cell_type": "markdown",
   "metadata": {},
   "source": [
    "Next lets check which or our numerical type features are continuous or categorical using scatterplots. "
   ]
  },
  {
   "cell_type": "code",
   "execution_count": 9,
   "metadata": {},
   "outputs": [],
   "source": [
    "# Grabs numberical columns from training set\n",
    "X_train_num = X_train_mod.select_dtypes(include=['int64', 'float64']).copy()\n",
    "\n",
    "def scatter_plots(X, n_cols, y='index'):\n",
    "    '''\n",
    "    Creates scatter plots for each feature in X against y\n",
    "    Handles missing values of type Nan \n",
    "    \n",
    "    Inputs: X = dataframe to have features plotted\n",
    "            y = dataseries to be plotted against,\n",
    "                default=index\n",
    "            ncols = number of columns for figure\n",
    "    Output: [# of features//ncols, ncols] sized figure of scatterplots\n",
    "    '''\n",
    "#     Calculates number of rows in figure\n",
    "    n_rows = (X.shape[1]//n_cols)+1\n",
    "    \n",
    "#     Creates figure\n",
    "    fig, axes = plt.subplots(figsize = (n_cols*5, n_rows*5),\n",
    "                                  ncols=n_cols,\n",
    "                                  nrows=n_rows);\n",
    "#     Plots individual scatter plots\n",
    "    for i, col in enumerate(X.columns):\n",
    "        if type(y) == str:\n",
    "            ind = range(X[col].notna().sum())\n",
    "            axes[i//n_cols, i%n_cols].scatter(ind, X[col].dropna());\n",
    "            axes[i//n_cols, i%n_cols].set_title(f'{col} vs. {y}');\n",
    "        else:\n",
    "            temp_df = pd.concat([X[col], y], axis=1).dropna()\n",
    "            axes[i//n_cols, i%n_cols].scatter(temp_df.iloc[:,1], temp_df.iloc[:,0]);\n",
    "            axes[i//n_cols, i%n_cols].set_title(f'{col} vs. {y.name}');\n",
    "                        "
   ]
  },
  {
   "cell_type": "code",
   "execution_count": 10,
   "metadata": {},
   "outputs": [
    {
     "data": {
      "image/png": "[encoded data removed]",
      "text/plain": [
       "<Figure size 1440x2160 with 24 Axes>"
      ]
     },
     "metadata": {
      "needs_background": "light"
     },
     "output_type": "display_data"
    }
   ],
   "source": [
    "scatter_plots(X_train_num, 4)"
   ]
  },
  {
   "cell_type": "markdown",
   "metadata": {},
   "source": [
    "It appears that all of our features can be considered categorical. Now lets try and determine how to handle the missing values. \n",
    "\n",
    "Though lets first determine if any of our rows are missing a lot of information."
   ]
  },
  {
   "cell_type": "code",
   "execution_count": 11,
   "metadata": {},
   "outputs": [],
   "source": [
    "# Creates a list with number of missing values in each row\n",
    "nan_per_row = []\n",
    "for i in range(len(X_train_mod)):\n",
    "    nan_per_row.append(X_train_mod.iloc[i,:].isna().sum())"
   ]
  },
  {
   "cell_type": "code",
   "execution_count": 12,
   "metadata": {},
   "outputs": [],
   "source": [
    "# creates dataseries of missing values\n",
    "nan_per_row_ds = pd.Series(nan_per_row)\n",
    "\n",
    "# gets frequeny of nan amounts in rows\n",
    "nan_row_counts = nan_per_row_ds.value_counts()"
   ]
  },
  {
   "cell_type": "code",
   "execution_count": 13,
   "metadata": {},
   "outputs": [
    {
     "data": {
      "text/plain": [
       "19        2\n",
       "18       32\n",
       "17       11\n",
       "16      103\n",
       "15       13\n",
       "14       90\n",
       "13       28\n",
       "12       35\n",
       "11       39\n",
       "10       73\n",
       "9        39\n",
       "8       106\n",
       "7        67\n",
       "6        31\n",
       "5       288\n",
       "4       101\n",
       "3       358\n",
       "2      1694\n",
       "1      2176\n",
       "0     14744\n",
       "dtype: int64"
      ]
     },
     "execution_count": 13,
     "metadata": {},
     "output_type": "execute_result"
    }
   ],
   "source": [
    "# Prints the number of occurences in order from most nans in row to least\n",
    "ordered_missing_nan = nan_row_counts[nan_row_counts.keys().sort_values(ascending=False)]\n",
    "ordered_missing_nan"
   ]
  },
  {
   "cell_type": "code",
   "execution_count": 14,
   "metadata": {},
   "outputs": [
    {
     "data": {
      "text/plain": [
       "19        2\n",
       "18       34\n",
       "17       45\n",
       "16      148\n",
       "15      161\n",
       "14      251\n",
       "13      279\n",
       "12      314\n",
       "11      353\n",
       "10      426\n",
       "9       465\n",
       "8       571\n",
       "7       638\n",
       "6       669\n",
       "5       957\n",
       "4      1058\n",
       "3      1416\n",
       "2      3110\n",
       "1      5286\n",
       "0     20030\n",
       "dtype: int64"
      ]
     },
     "execution_count": 14,
     "metadata": {},
     "output_type": "execute_result"
    }
   ],
   "source": [
    "# Prints the cumulative sum starting with highest amount of nans to gain an idea of quantity\n",
    "np.cumsum(ordered_missing_nan)"
   ]
  },
  {
   "cell_type": "markdown",
   "metadata": {},
   "source": [
    "Our current features dataframe has 32 features after dropping those four columns. That means around 353 entries are missing about a third (11 values) of their features information. Since these entries are missing most of their information lets drop them from the dataset."
   ]
  },
  {
   "cell_type": "code",
   "execution_count": 15,
   "metadata": {},
   "outputs": [],
   "source": [
    "def drop_rows_by_nans(df, y, nan_threshold=None):\n",
    "    '''\n",
    "    Drop rows by quantity of nan values with nan_threshold as cut-off point\n",
    "    \n",
    "    Inputs: \n",
    "            df = DataFrame to be altered, should contain features and target concatenated together\n",
    "            y = target variable column name\n",
    "            nan_threshold = cut-off point to drop rows, default = None which results in a value\n",
    "                            of half or a little larger than number of features\n",
    "    \n",
    "    Outputs: \n",
    "            feature_df = feature DataFrame\n",
    "            y = Target Variable\n",
    "    '''\n",
    "    \n",
    "#     Checks value of nan_threshold\n",
    "    if nan_threshold == None:\n",
    "#         Sets to half of or rounded up from half of feature columns\n",
    "        nan_threshold = math.ceil((len(df.columns)-1)/2)\n",
    "    \n",
    "#     Finds nans contained in each row \n",
    "    nan_per_row = []\n",
    "    for i in range(df.shape[0]):\n",
    "        nan_per_row.append(X_train_mod.iloc[i,:].isna().sum())\n",
    "    \n",
    "#     Creates temporary column in df for number of nan values\n",
    "    df['nans'] = nan_per_row\n",
    "#     Creates dataframe of rows under nan threshold\n",
    "    df = df[df.nans < nan_threshold]\n",
    "#     Creates target variable\n",
    "    y = df.h1n1_vaccine\n",
    "#     returns tuple (feature_df, target)\n",
    "    return (df.drop(['nans', 'h1n1_vaccine'], axis=1), y)"
   ]
  },
  {
   "cell_type": "code",
   "execution_count": 16,
   "metadata": {},
   "outputs": [],
   "source": [
    "# Creates custom fuction transfromer\n",
    "Many_Nans_Row_Drop_FT = FunctionTransformer(drop_rows_by_nans, kw_args = {'y': 'h1n1_vaccine',\n",
    "                                                                          'nan_threshold': 11})"
   ]
  },
  {
   "cell_type": "code",
   "execution_count": 17,
   "metadata": {},
   "outputs": [],
   "source": [
    "# Creates training set of both features and target to be transformed\n",
    "train_set = pd.concat([X_train_mod, y_train], axis=1).copy()"
   ]
  },
  {
   "cell_type": "code",
   "execution_count": 18,
   "metadata": {},
   "outputs": [],
   "source": [
    "# Transforms training set\n",
    "X_train_mod, y_train = Many_Nans_Row_Drop_FT.fit_transform(train_set)"
   ]
  },
  {
   "cell_type": "code",
   "execution_count": 19,
   "metadata": {},
   "outputs": [
    {
     "data": {
      "text/plain": [
       "(19677, 32)"
      ]
     },
     "execution_count": 19,
     "metadata": {},
     "output_type": "execute_result"
    }
   ],
   "source": [
    "# Checks shape to see if worked correctly\n",
    "X_train_mod.shape"
   ]
  },
  {
   "cell_type": "code",
   "execution_count": 20,
   "metadata": {},
   "outputs": [],
   "source": [
    "# corr_dict = {}\n",
    "# cols = X_mod.columns\n",
    "# for i in range(X_mod.shape[1] - 1):\n",
    "#     for j in range(i+1,X_mod.shape[1]):\n",
    "#         key1 = cols[i] + '_+_' + cols[j]\n",
    "#         corr_dict[key1] = {}\n",
    "#         for k in range(X_mod.shape[0]):\n",
    "#             col1_val = X_mod.iloc[k, i]\n",
    "#             col2_val = X_mod.iloc[k, j]\n",
    "            \n",
    "#             key2 = str(col1_val) + '_+_' + str(col2_val)\n",
    "#             corr_dict[key1][key2] = corr_dict[key1].get(key2, 0)+1"
   ]
  },
  {
   "cell_type": "code",
   "execution_count": 21,
   "metadata": {},
   "outputs": [],
   "source": [
    "# corr_dict[list(corr_dict.keys())[0]]"
   ]
  },
  {
   "cell_type": "markdown",
   "metadata": {},
   "source": [
    "1. Create a random implementation for missing values, in new columns\n",
    "2. iteratively use classificatin models to predict values for missing entries\n",
    "\n",
    "Need to convert objects to numbers."
   ]
  },
  {
   "cell_type": "markdown",
   "metadata": {},
   "source": [
    "In order to fill in the missing values, a logistic regression model will be used after randomly imputing existing variables but occurence rate for each feature.\n",
    "\n",
    "The process for this is as follows.\n",
    "1. Create copies of each column missing values in dataframe.\n",
    "2. Randomly fill the missing values in these new columns with existing values by frequency.\n",
    "3. "
   ]
  },
  {
   "cell_type": "code",
   "execution_count": 22,
   "metadata": {},
   "outputs": [],
   "source": [
    "# def feature_encoder(df):\n",
    "#     '''\n",
    "#     Takes in a dataframe and uses LabelEncoder on non-Nan values in each feature\n",
    "    \n",
    "#     Input: df = DataFrame\n",
    "#     Output: dataframe with Nan values and encoded non-Nan values\n",
    "#     '''\n",
    "    \n",
    "# #     Iterates through each feature and encodes non-Nan values\n",
    "#     for feature in df.columns:\n",
    "#         df.loc[df[feature].notnull(), feature] = LabelEncoder().fit_transform(df.loc[df[feature].notnull(), feature])\n",
    "#     return df"
   ]
  },
  {
   "cell_type": "code",
   "execution_count": 23,
   "metadata": {},
   "outputs": [],
   "source": [
    "# Creatures custom encoder function transformer\n",
    "# Encoder_FT = FunctionTransformer(feature_encoder)"
   ]
  },
  {
   "cell_type": "code",
   "execution_count": 24,
   "metadata": {},
   "outputs": [],
   "source": [
    "# # Grabs object feature column names to be encoded\n",
    "# object_cols = list(X_mod.select_dtypes('object').columns)\n",
    "\n",
    "# # Creates Column Transformer with custom encoder function transformer\n",
    "# Encoder_CT = ColumnTransformer(transformers = [('encoder', Encoder_FT, object_cols)],\n",
    "#                        remainder='passthrough')"
   ]
  },
  {
   "cell_type": "code",
   "execution_count": 25,
   "metadata": {},
   "outputs": [],
   "source": [
    "# # Runs ColumnTransformer on feature dataset\n",
    "# X_mod_encoded = Encoder_CT.fit_transform(X_mod)"
   ]
  },
  {
   "cell_type": "code",
   "execution_count": 26,
   "metadata": {},
   "outputs": [],
   "source": [
    "# # Creates Dataframe using encoded dataset\n",
    "# X_mod_encoded = pd.DataFrame(X_mod_encoded,\n",
    "#                              index = X_mod.index,\n",
    "#                              columns = X_mod.columns)\n",
    "# X_mod_encoded.head()"
   ]
  },
  {
   "cell_type": "code",
   "execution_count": 27,
   "metadata": {},
   "outputs": [],
   "source": [
    "# # Saves X_mod_encoded to pickle file for ease to reload\n",
    "# with open('data/temp_pickle_files/X_mod_encoded.pickle', 'wb') as f:\n",
    "#     pickle.dump(X_mod_encoded, f)"
   ]
  },
  {
   "cell_type": "code",
   "execution_count": 28,
   "metadata": {},
   "outputs": [],
   "source": [
    "# Saves X_train_mod to pickle file for ease to reload\n",
    "with open('data/temp_pickle_files/X_train_mod.pickle', 'wb') as f:\n",
    "    pickle.dump(X_train_mod, f)"
   ]
  },
  {
   "cell_type": "code",
   "execution_count": 29,
   "metadata": {},
   "outputs": [],
   "source": [
    "# Opens X_mod_encoded pickle file\n",
    "# with open('data/temp_pickle_files/X_mod_encoded.pickle', 'rb') as f:\n",
    "#     X_mod_encoded = pickle.load(f)"
   ]
  },
  {
   "cell_type": "code",
   "execution_count": 30,
   "metadata": {},
   "outputs": [],
   "source": [
    "# Opens X_train_mod pickle file\n",
    "with open('data/temp_pickle_files/X_train_mod.pickle', 'rb') as f:\n",
    "    X_train_mod = pickle.load(f)"
   ]
  },
  {
   "cell_type": "code",
   "execution_count": 31,
   "metadata": {},
   "outputs": [],
   "source": [
    "# def random_imputation(df, feature):\n",
    "#     '''\n",
    "#     Fills in missing feature data by randomly imputing existing values by\n",
    "#     occurence rate\n",
    "#     '''\n",
    "    \n",
    "#     number_missing = df[feature].isnull().sum()\n",
    "#     observed_values = df.loc[df[feature].notnull(), feature]\n",
    "#     df.loc[df[feature].isnull(), feature + '_imp'] = np.random.choice(observed_values, number_missing, replace = True)\n",
    "    \n",
    "#     return df"
   ]
  },
  {
   "cell_type": "markdown",
   "metadata": {},
   "source": [
    "Process was modified from an article written by Shashanka Subrahmanya in his article <a href=\"https://www.kaggle.com/code/shashankasubrahmanya/missing-data-imputation-using-regression\">Missing Data Imputation using Regression</a>.\n",
    "\n",
    "His process utilized linear regression and didn't create custom transfomers. For the purpose of this project I have modified it to fit my needs."
   ]
  },
  {
   "cell_type": "code",
   "execution_count": 135,
   "metadata": {},
   "outputs": [],
   "source": [
    "class RandomImputer(BaseEstimator, TransformerMixin):\n",
    "    '''\n",
    "    Randomly imputes values for missing data in new columns.\n",
    "    Values are based off of existing values and rates of occurences.\n",
    "    \n",
    "    Initialized with optional parameter columns which mark which\n",
    "    columns will be transformed, if left to default value 'all', all\n",
    "    columns with missing values will be filled.\n",
    "    '''\n",
    "    \n",
    "#     Initializes class object\n",
    "    def __init__(self, missing_columns='all_missing_columns'):\n",
    "        self.missing_columns = missing_columns\n",
    "\n",
    "#     If columns equals all sets attribute to all missing columns \n",
    "    def fit(self, X, y=None):\n",
    "        if self.missing_columns == 'all_missing_columns':\n",
    "            nan_amount = X.isna().sum()\n",
    "            self.missing_columns = list(nan_amount[nan_amount>0].index)\n",
    "#     Handles if single column entered as string\n",
    "        elif type(self.missing_columns) == str:\n",
    "            self.missing_columns = [self.missing_columns]\n",
    "        return self\n",
    "    \n",
    "    \n",
    "    def transform(self, X, y=None):\n",
    "        df = X.copy()\n",
    "        for col in self.missing_columns:\n",
    "#     Creates copy of column to have calues imputed into\n",
    "            df[col+'_imp'] = df[col]\n",
    "#     Finds number of missing values in column\n",
    "            number_missing = df[col].isnull().sum()\n",
    "#     Gets existing values from column, repeat values are kept to ensure proper ratio\n",
    "            observed_values = df.loc[df[col].notnull(), col]\n",
    "#     Randomly Imputes observed values replacing all missing information\n",
    "            df.loc[df[col].isnull(), col+'_imp'] = np.random.choice(observed_values, number_missing, replace = True)\n",
    "\n",
    "#     Creates column index variable to be called to set DataFrame index\n",
    "        self.final_columns = df.columns\n",
    "        \n",
    "        return df\n",
    "    \n",
    "#     Returns final columns index\n",
    "    def get_final_columns(self):\n",
    "        return self.final_columns"
   ]
  },
  {
   "cell_type": "code",
   "execution_count": 136,
   "metadata": {},
   "outputs": [],
   "source": [
    "# Creates class object\n",
    "rand_imp = RandomImputer()"
   ]
  },
  {
   "cell_type": "code",
   "execution_count": 137,
   "metadata": {},
   "outputs": [],
   "source": [
    "# Fits and transforms dataset\n",
    "X_mod_imputed = rand_imp.fit_transform(X_train_mod)"
   ]
  },
  {
   "cell_type": "code",
   "execution_count": 138,
   "metadata": {},
   "outputs": [
    {
     "data": {
      "text/plain": [
       "age_group                          0\n",
       "race                               0\n",
       "sex                                0\n",
       "hhs_geo_region                     0\n",
       "census_msa                         0\n",
       "h1n1_concern_imp                   0\n",
       "h1n1_knowledge_imp                 0\n",
       "behavioral_antiviral_meds_imp      0\n",
       "behavioral_avoidance_imp           0\n",
       "behavioral_face_mask_imp           0\n",
       "behavioral_wash_hands_imp          0\n",
       "behavioral_large_gatherings_imp    0\n",
       "behavioral_outside_home_imp        0\n",
       "behavioral_touch_face_imp          0\n",
       "doctor_recc_h1n1_imp               0\n",
       "doctor_recc_seasonal_imp           0\n",
       "chronic_med_condition_imp          0\n",
       "child_under_6_months_imp           0\n",
       "health_worker_imp                  0\n",
       "opinion_h1n1_vacc_effective_imp    0\n",
       "opinion_h1n1_risk_imp              0\n",
       "opinion_h1n1_sick_from_vacc_imp    0\n",
       "opinion_seas_vacc_effective_imp    0\n",
       "opinion_seas_risk_imp              0\n",
       "opinion_seas_sick_from_vacc_imp    0\n",
       "education_imp                      0\n",
       "income_poverty_imp                 0\n",
       "marital_status_imp                 0\n",
       "rent_or_own_imp                    0\n",
       "employment_status_imp              0\n",
       "household_adults_imp               0\n",
       "household_children_imp             0\n",
       "dtype: int64"
      ]
     },
     "execution_count": 138,
     "metadata": {},
     "output_type": "execute_result"
    }
   ],
   "source": [
    "# checks if all columns besides original columns with missing data are filled in\n",
    "X_mod_imputed.drop(rand_imp.missing_columns, axis=1).isna().sum()"
   ]
  },
  {
   "cell_type": "markdown",
   "metadata": {},
   "source": [
    "Now that each feature has been filled with randomly imputed data, it's time to apply a regression models to predict the values for missing data from the other features data instead of randomly imputing the data.\n",
    "\n",
    "This requires an iterative process for each column containing missing data. Since each column is categorical they will need to be OHE for each iteration and the target variable (column missing data) will need to be treated as a multiclass classification problem. Also since the features contain various amount of information, I would like to iterate through the columns filling by number of missing values. I am not sure if filling in the columns with little data missing first, or a lot of missing data is better. By filling in the columns with less missing data first, it could help achieve more accurate information to fill the columns with many missing entries. On the other hand filling in the columns with many missing values, will take out more randomness for future iterations, by filling in more random columns with predicted values from regression. To start I believe I will try the method of handling columns with many missing entries first. Also since many columns and iterations are needed Decision Trees will used to predict the missing values."
   ]
  },
  {
   "cell_type": "code",
   "execution_count": null,
   "metadata": {},
   "outputs": [],
   "source": [
    "class iterative_classification(BaseEstimator, TransformerMixin):\n",
    "    def __init__(self):"
   ]
  },
  {
   "cell_type": "code",
   "execution_count": null,
   "metadata": {},
   "outputs": [],
   "source": [
    "deter_data = pd.DataFrame(columns = [\"Det\" + name for name in missing_columns])\n",
    "\n",
    "for feature in missing_columns:\n",
    "        \n",
    "    deter_data[\"Det\" + feature] = X_mod_encoded[feature + \"_imp\"]\n",
    "    parameters = list(set(X_mod_encoded.columns) - set(missing_columns) - {feature + '_imp'})\n",
    "    \n",
    "    #Create a Linear Regression model to estimate the missing data\n",
    "    model = LogisticRegression(random_state=42)\n",
    "    model.fit(X = X_mod_encoded[parameters], y = X_mod_encoded[feature + '_imp'])\n",
    "    \n",
    "    #observe that I preserve the index of the missing data from the original dataframe\n",
    "    deter_data.loc[X_mod_encoded[feature].isnull(), \"Det\" + feature] = model.predict(X_mod_encoded[parameters])[X_mod_encoded[feature].isnull()]"
   ]
  },
  {
   "cell_type": "code",
   "execution_count": null,
   "metadata": {},
   "outputs": [],
   "source": [
    "X_mod.iloc[:,12:].describe()"
   ]
  },
  {
   "cell_type": "code",
   "execution_count": null,
   "metadata": {},
   "outputs": [],
   "source": [
    "# Preview target dataframe\n",
    "y.head()"
   ]
  },
  {
   "cell_type": "code",
   "execution_count": null,
   "metadata": {},
   "outputs": [],
   "source": []
  }
 ],
 "metadata": {
  "kernelspec": {
   "display_name": "Python (learn-env)",
   "language": "python",
   "name": "learn-env"
  },
  "language_info": {
   "codemirror_mode": {
    "name": "ipython",
    "version": 3
   },
   "file_extension": ".py",
   "mimetype": "text/x-python",
   "name": "python",
   "nbconvert_exporter": "python",
   "pygments_lexer": "ipython3",
   "version": "3.8.5"
  }
 },
 "nbformat": 4,
 "nbformat_minor": 4
}
